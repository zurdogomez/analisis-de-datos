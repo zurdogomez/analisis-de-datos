{
 "cells": [
  {
   "cell_type": "code",
   "execution_count": 31,
   "id": "922311ee-e5b2-4e39-9236-541865aa8833",
   "metadata": {},
   "outputs": [],
   "source": [
    "# cargo de librerias\n",
    "import pandas as pd # importacion de librerias manejo de estructura de datos\n",
    "import numpy as np # Cálculo numérico y el análisis de datos\n",
    "import seaborn as sns # Creación gráficos estadísticos\n",
    "import matplotlib.pyplot as plt # Creación de gráficos en dos dimensiones\n",
    "\n",
    "# Librerías de para implementar modelos de ciencia de datos\n",
    "from sklearn import metrics\n",
    "from sklearn.model_selection import train_test_split\n",
    "from sklearn.linear_model import LogisticRegression\n",
    "\n",
    "#from sklearn.linear_model import LinearRegression -> Librería para Regresión Lineal\n",
    "\n",
    "from sklearn.metrics import classification_report, confusion_matrix "
   ]
  },
  {
   "cell_type": "code",
   "execution_count": 105,
   "id": "bf71ab81-9199-4237-a169-18c39444e46b",
   "metadata": {},
   "outputs": [],
   "source": [
    " # Lectura de datos en Python y Lo cargamos en la variable Datos  permite cargar los datos\n",
    "\n",
    "Datos = pd.read_csv('./Car.csv')"
   ]
  },
  {
   "cell_type": "code",
   "execution_count": 107,
   "id": "5425be7b-43dd-4c1e-8f1c-c471d8e4c5a3",
   "metadata": {},
   "outputs": [
    {
     "data": {
      "text/html": [
       "<div>\n",
       "<style scoped>\n",
       "    .dataframe tbody tr th:only-of-type {\n",
       "        vertical-align: middle;\n",
       "    }\n",
       "\n",
       "    .dataframe tbody tr th {\n",
       "        vertical-align: top;\n",
       "    }\n",
       "\n",
       "    .dataframe thead th {\n",
       "        text-align: right;\n",
       "    }\n",
       "</style>\n",
       "<table border=\"1\" class=\"dataframe\">\n",
       "  <thead>\n",
       "    <tr style=\"text-align: right;\">\n",
       "      <th></th>\n",
       "      <th>nombre</th>\n",
       "      <th>años</th>\n",
       "      <th>presio_venta</th>\n",
       "      <th>km_recorridos</th>\n",
       "      <th>combustible</th>\n",
       "      <th>tipo_vendedor</th>\n",
       "      <th>transmission</th>\n",
       "      <th>propietario</th>\n",
       "      <th>kilometraje</th>\n",
       "      <th>motor</th>\n",
       "      <th>potencia_maxima</th>\n",
       "      <th>torque</th>\n",
       "      <th>asiento</th>\n",
       "    </tr>\n",
       "  </thead>\n",
       "  <tbody>\n",
       "    <tr>\n",
       "      <th>0</th>\n",
       "      <td>Maruti Swift Dzire VDI</td>\n",
       "      <td>2014</td>\n",
       "      <td>450000</td>\n",
       "      <td>145500</td>\n",
       "      <td>Diesel</td>\n",
       "      <td>Individual</td>\n",
       "      <td>Manual</td>\n",
       "      <td>First Owner</td>\n",
       "      <td>23.4 kmpl</td>\n",
       "      <td>1248 CC</td>\n",
       "      <td>74 bhp</td>\n",
       "      <td>190Nm@ 2000rpm</td>\n",
       "      <td>5.0</td>\n",
       "    </tr>\n",
       "    <tr>\n",
       "      <th>1</th>\n",
       "      <td>Skoda Rapid 1.5 TDI Ambition</td>\n",
       "      <td>2014</td>\n",
       "      <td>370000</td>\n",
       "      <td>120000</td>\n",
       "      <td>Diesel</td>\n",
       "      <td>Individual</td>\n",
       "      <td>Manual</td>\n",
       "      <td>Second Owner</td>\n",
       "      <td>21.14 kmpl</td>\n",
       "      <td>1498 CC</td>\n",
       "      <td>103.52 bhp</td>\n",
       "      <td>250Nm@ 1500-2500rpm</td>\n",
       "      <td>5.0</td>\n",
       "    </tr>\n",
       "    <tr>\n",
       "      <th>2</th>\n",
       "      <td>Honda City 2017-2020 EXi</td>\n",
       "      <td>2006</td>\n",
       "      <td>158000</td>\n",
       "      <td>140000</td>\n",
       "      <td>Petrol</td>\n",
       "      <td>Individual</td>\n",
       "      <td>Manual</td>\n",
       "      <td>Third Owner</td>\n",
       "      <td>17.7 kmpl</td>\n",
       "      <td>1497 CC</td>\n",
       "      <td>78 bhp</td>\n",
       "      <td>12.7@ 2,700(kgm@ rpm)</td>\n",
       "      <td>5.0</td>\n",
       "    </tr>\n",
       "    <tr>\n",
       "      <th>3</th>\n",
       "      <td>Hyundai i20 Sportz Diesel</td>\n",
       "      <td>2010</td>\n",
       "      <td>225000</td>\n",
       "      <td>127000</td>\n",
       "      <td>Diesel</td>\n",
       "      <td>Individual</td>\n",
       "      <td>Manual</td>\n",
       "      <td>First Owner</td>\n",
       "      <td>23.0 kmpl</td>\n",
       "      <td>1396 CC</td>\n",
       "      <td>90 bhp</td>\n",
       "      <td>22.4 kgm at 1750-2750rpm</td>\n",
       "      <td>5.0</td>\n",
       "    </tr>\n",
       "    <tr>\n",
       "      <th>4</th>\n",
       "      <td>Maruti Swift VXI BSIII</td>\n",
       "      <td>2007</td>\n",
       "      <td>130000</td>\n",
       "      <td>120000</td>\n",
       "      <td>Petrol</td>\n",
       "      <td>Individual</td>\n",
       "      <td>Manual</td>\n",
       "      <td>First Owner</td>\n",
       "      <td>16.1 kmpl</td>\n",
       "      <td>1298 CC</td>\n",
       "      <td>88.2 bhp</td>\n",
       "      <td>11.5@ 4,500(kgm@ rpm)</td>\n",
       "      <td>5.0</td>\n",
       "    </tr>\n",
       "    <tr>\n",
       "      <th>5</th>\n",
       "      <td>Hyundai Xcent 1.2 VTVT E Plus</td>\n",
       "      <td>2017</td>\n",
       "      <td>440000</td>\n",
       "      <td>45000</td>\n",
       "      <td>Petrol</td>\n",
       "      <td>Individual</td>\n",
       "      <td>Manual</td>\n",
       "      <td>First Owner</td>\n",
       "      <td>20.14 kmpl</td>\n",
       "      <td>1197 CC</td>\n",
       "      <td>81.86 bhp</td>\n",
       "      <td>113.75nm@ 4000rpm</td>\n",
       "      <td>5.0</td>\n",
       "    </tr>\n",
       "    <tr>\n",
       "      <th>6</th>\n",
       "      <td>Maruti Wagon R LXI DUO BSIII</td>\n",
       "      <td>2007</td>\n",
       "      <td>96000</td>\n",
       "      <td>175000</td>\n",
       "      <td>LPG</td>\n",
       "      <td>Individual</td>\n",
       "      <td>Manual</td>\n",
       "      <td>First Owner</td>\n",
       "      <td>17.3 km/kg</td>\n",
       "      <td>1061 CC</td>\n",
       "      <td>57.5 bhp</td>\n",
       "      <td>7.8@ 4,500(kgm@ rpm)</td>\n",
       "      <td>5.0</td>\n",
       "    </tr>\n",
       "    <tr>\n",
       "      <th>7</th>\n",
       "      <td>Maruti 800 DX BSII</td>\n",
       "      <td>2001</td>\n",
       "      <td>45000</td>\n",
       "      <td>5000</td>\n",
       "      <td>Petrol</td>\n",
       "      <td>Individual</td>\n",
       "      <td>Manual</td>\n",
       "      <td>Second Owner</td>\n",
       "      <td>16.1 kmpl</td>\n",
       "      <td>796 CC</td>\n",
       "      <td>37 bhp</td>\n",
       "      <td>59Nm@ 2500rpm</td>\n",
       "      <td>4.0</td>\n",
       "    </tr>\n",
       "    <tr>\n",
       "      <th>8</th>\n",
       "      <td>Toyota Etios VXD</td>\n",
       "      <td>2011</td>\n",
       "      <td>350000</td>\n",
       "      <td>90000</td>\n",
       "      <td>Diesel</td>\n",
       "      <td>Individual</td>\n",
       "      <td>Manual</td>\n",
       "      <td>First Owner</td>\n",
       "      <td>23.59 kmpl</td>\n",
       "      <td>1364 CC</td>\n",
       "      <td>67.1 bhp</td>\n",
       "      <td>170Nm@ 1800-2400rpm</td>\n",
       "      <td>5.0</td>\n",
       "    </tr>\n",
       "    <tr>\n",
       "      <th>9</th>\n",
       "      <td>Ford Figo Diesel Celebration Edition</td>\n",
       "      <td>2013</td>\n",
       "      <td>200000</td>\n",
       "      <td>169000</td>\n",
       "      <td>Diesel</td>\n",
       "      <td>Individual</td>\n",
       "      <td>Manual</td>\n",
       "      <td>First Owner</td>\n",
       "      <td>20.0 kmpl</td>\n",
       "      <td>1399 CC</td>\n",
       "      <td>68.1 bhp</td>\n",
       "      <td>160Nm@ 2000rpm</td>\n",
       "      <td>5.0</td>\n",
       "    </tr>\n",
       "    <tr>\n",
       "      <th>10</th>\n",
       "      <td>Renault Duster 110PS Diesel RxL</td>\n",
       "      <td>2014</td>\n",
       "      <td>500000</td>\n",
       "      <td>68000</td>\n",
       "      <td>Diesel</td>\n",
       "      <td>Individual</td>\n",
       "      <td>Manual</td>\n",
       "      <td>Second Owner</td>\n",
       "      <td>19.01 kmpl</td>\n",
       "      <td>1461 CC</td>\n",
       "      <td>108.45 bhp</td>\n",
       "      <td>248Nm@ 2250rpm</td>\n",
       "      <td>5.0</td>\n",
       "    </tr>\n",
       "    <tr>\n",
       "      <th>11</th>\n",
       "      <td>Maruti Zen LX</td>\n",
       "      <td>2005</td>\n",
       "      <td>92000</td>\n",
       "      <td>100000</td>\n",
       "      <td>Petrol</td>\n",
       "      <td>Individual</td>\n",
       "      <td>Manual</td>\n",
       "      <td>Second Owner</td>\n",
       "      <td>17.3 kmpl</td>\n",
       "      <td>993 CC</td>\n",
       "      <td>60 bhp</td>\n",
       "      <td>78Nm@ 4500rpm</td>\n",
       "      <td>5.0</td>\n",
       "    </tr>\n",
       "    <tr>\n",
       "      <th>12</th>\n",
       "      <td>Maruti Swift Dzire VDi</td>\n",
       "      <td>2009</td>\n",
       "      <td>280000</td>\n",
       "      <td>140000</td>\n",
       "      <td>Diesel</td>\n",
       "      <td>Individual</td>\n",
       "      <td>Manual</td>\n",
       "      <td>Second Owner</td>\n",
       "      <td>19.3 kmpl</td>\n",
       "      <td>1248 CC</td>\n",
       "      <td>73.9 bhp</td>\n",
       "      <td>190Nm@ 2000rpm</td>\n",
       "      <td>5.0</td>\n",
       "    </tr>\n",
       "    <tr>\n",
       "      <th>13</th>\n",
       "      <td>Maruti Swift 1.3 VXi</td>\n",
       "      <td>2007</td>\n",
       "      <td>200000</td>\n",
       "      <td>80000</td>\n",
       "      <td>Petrol</td>\n",
       "      <td>Individual</td>\n",
       "      <td>Manual</td>\n",
       "      <td>Second Owner</td>\n",
       "      <td>NaN</td>\n",
       "      <td>NaN</td>\n",
       "      <td>NaN</td>\n",
       "      <td>NaN</td>\n",
       "      <td>NaN</td>\n",
       "    </tr>\n",
       "    <tr>\n",
       "      <th>14</th>\n",
       "      <td>Maruti Wagon R LXI Minor</td>\n",
       "      <td>2009</td>\n",
       "      <td>180000</td>\n",
       "      <td>90000</td>\n",
       "      <td>Petrol</td>\n",
       "      <td>Individual</td>\n",
       "      <td>Manual</td>\n",
       "      <td>Second Owner</td>\n",
       "      <td>18.9 kmpl</td>\n",
       "      <td>1061 CC</td>\n",
       "      <td>67 bhp</td>\n",
       "      <td>84Nm@ 3500rpm</td>\n",
       "      <td>5.0</td>\n",
       "    </tr>\n",
       "    <tr>\n",
       "      <th>15</th>\n",
       "      <td>Mahindra KUV 100 mFALCON G80 K8 5str</td>\n",
       "      <td>2016</td>\n",
       "      <td>400000</td>\n",
       "      <td>40000</td>\n",
       "      <td>Petrol</td>\n",
       "      <td>Individual</td>\n",
       "      <td>Manual</td>\n",
       "      <td>First Owner</td>\n",
       "      <td>18.15 kmpl</td>\n",
       "      <td>1198 CC</td>\n",
       "      <td>82 bhp</td>\n",
       "      <td>115Nm@ 3500-3600rpm</td>\n",
       "      <td>5.0</td>\n",
       "    </tr>\n",
       "    <tr>\n",
       "      <th>16</th>\n",
       "      <td>Maruti Ertiga SHVS VDI</td>\n",
       "      <td>2016</td>\n",
       "      <td>778000</td>\n",
       "      <td>70000</td>\n",
       "      <td>Diesel</td>\n",
       "      <td>Individual</td>\n",
       "      <td>Manual</td>\n",
       "      <td>Second Owner</td>\n",
       "      <td>24.52 kmpl</td>\n",
       "      <td>1248 CC</td>\n",
       "      <td>88.5 bhp</td>\n",
       "      <td>200Nm@ 1750rpm</td>\n",
       "      <td>7.0</td>\n",
       "    </tr>\n",
       "    <tr>\n",
       "      <th>17</th>\n",
       "      <td>Hyundai i20 1.4 CRDi Asta</td>\n",
       "      <td>2012</td>\n",
       "      <td>500000</td>\n",
       "      <td>53000</td>\n",
       "      <td>Diesel</td>\n",
       "      <td>Individual</td>\n",
       "      <td>Manual</td>\n",
       "      <td>Second Owner</td>\n",
       "      <td>23.0 kmpl</td>\n",
       "      <td>1396 CC</td>\n",
       "      <td>90 bhp</td>\n",
       "      <td>22.4 kgm at 1750-2750rpm</td>\n",
       "      <td>5.0</td>\n",
       "    </tr>\n",
       "    <tr>\n",
       "      <th>18</th>\n",
       "      <td>Maruti Alto LX</td>\n",
       "      <td>2002</td>\n",
       "      <td>150000</td>\n",
       "      <td>80000</td>\n",
       "      <td>Petrol</td>\n",
       "      <td>Individual</td>\n",
       "      <td>Manual</td>\n",
       "      <td>Second Owner</td>\n",
       "      <td>19.7 kmpl</td>\n",
       "      <td>796 CC</td>\n",
       "      <td>46.3 bhp</td>\n",
       "      <td>62Nm@ 3000rpm</td>\n",
       "      <td>5.0</td>\n",
       "    </tr>\n",
       "    <tr>\n",
       "      <th>19</th>\n",
       "      <td>Hyundai i20 2015-2017 Asta 1.4 CRDi</td>\n",
       "      <td>2016</td>\n",
       "      <td>680000</td>\n",
       "      <td>100000</td>\n",
       "      <td>Diesel</td>\n",
       "      <td>Individual</td>\n",
       "      <td>Manual</td>\n",
       "      <td>First Owner</td>\n",
       "      <td>22.54 kmpl</td>\n",
       "      <td>1396 CC</td>\n",
       "      <td>88.73 bhp</td>\n",
       "      <td>219.7Nm@ 1500-2750rpm</td>\n",
       "      <td>5.0</td>\n",
       "    </tr>\n",
       "  </tbody>\n",
       "</table>\n",
       "</div>"
      ],
      "text/plain": [
       "                                  nombre  años  presio_venta  km_recorridos  \\\n",
       "0                 Maruti Swift Dzire VDI  2014        450000         145500   \n",
       "1           Skoda Rapid 1.5 TDI Ambition  2014        370000         120000   \n",
       "2               Honda City 2017-2020 EXi  2006        158000         140000   \n",
       "3              Hyundai i20 Sportz Diesel  2010        225000         127000   \n",
       "4                 Maruti Swift VXI BSIII  2007        130000         120000   \n",
       "5          Hyundai Xcent 1.2 VTVT E Plus  2017        440000          45000   \n",
       "6           Maruti Wagon R LXI DUO BSIII  2007         96000         175000   \n",
       "7                     Maruti 800 DX BSII  2001         45000           5000   \n",
       "8                       Toyota Etios VXD  2011        350000          90000   \n",
       "9   Ford Figo Diesel Celebration Edition  2013        200000         169000   \n",
       "10       Renault Duster 110PS Diesel RxL  2014        500000          68000   \n",
       "11                         Maruti Zen LX  2005         92000         100000   \n",
       "12                Maruti Swift Dzire VDi  2009        280000         140000   \n",
       "13                  Maruti Swift 1.3 VXi  2007        200000          80000   \n",
       "14              Maruti Wagon R LXI Minor  2009        180000          90000   \n",
       "15  Mahindra KUV 100 mFALCON G80 K8 5str  2016        400000          40000   \n",
       "16                Maruti Ertiga SHVS VDI  2016        778000          70000   \n",
       "17             Hyundai i20 1.4 CRDi Asta  2012        500000          53000   \n",
       "18                        Maruti Alto LX  2002        150000          80000   \n",
       "19   Hyundai i20 2015-2017 Asta 1.4 CRDi  2016        680000         100000   \n",
       "\n",
       "   combustible tipo_vendedor transmission   propietario kilometraje    motor  \\\n",
       "0       Diesel    Individual       Manual   First Owner   23.4 kmpl  1248 CC   \n",
       "1       Diesel    Individual       Manual  Second Owner  21.14 kmpl  1498 CC   \n",
       "2       Petrol    Individual       Manual   Third Owner   17.7 kmpl  1497 CC   \n",
       "3       Diesel    Individual       Manual   First Owner   23.0 kmpl  1396 CC   \n",
       "4       Petrol    Individual       Manual   First Owner   16.1 kmpl  1298 CC   \n",
       "5       Petrol    Individual       Manual   First Owner  20.14 kmpl  1197 CC   \n",
       "6          LPG    Individual       Manual   First Owner  17.3 km/kg  1061 CC   \n",
       "7       Petrol    Individual       Manual  Second Owner   16.1 kmpl   796 CC   \n",
       "8       Diesel    Individual       Manual   First Owner  23.59 kmpl  1364 CC   \n",
       "9       Diesel    Individual       Manual   First Owner   20.0 kmpl  1399 CC   \n",
       "10      Diesel    Individual       Manual  Second Owner  19.01 kmpl  1461 CC   \n",
       "11      Petrol    Individual       Manual  Second Owner   17.3 kmpl   993 CC   \n",
       "12      Diesel    Individual       Manual  Second Owner   19.3 kmpl  1248 CC   \n",
       "13      Petrol    Individual       Manual  Second Owner         NaN      NaN   \n",
       "14      Petrol    Individual       Manual  Second Owner   18.9 kmpl  1061 CC   \n",
       "15      Petrol    Individual       Manual   First Owner  18.15 kmpl  1198 CC   \n",
       "16      Diesel    Individual       Manual  Second Owner  24.52 kmpl  1248 CC   \n",
       "17      Diesel    Individual       Manual  Second Owner   23.0 kmpl  1396 CC   \n",
       "18      Petrol    Individual       Manual  Second Owner   19.7 kmpl   796 CC   \n",
       "19      Diesel    Individual       Manual   First Owner  22.54 kmpl  1396 CC   \n",
       "\n",
       "   potencia_maxima                    torque  asiento  \n",
       "0           74 bhp            190Nm@ 2000rpm      5.0  \n",
       "1       103.52 bhp       250Nm@ 1500-2500rpm      5.0  \n",
       "2           78 bhp     12.7@ 2,700(kgm@ rpm)      5.0  \n",
       "3           90 bhp  22.4 kgm at 1750-2750rpm      5.0  \n",
       "4         88.2 bhp     11.5@ 4,500(kgm@ rpm)      5.0  \n",
       "5        81.86 bhp         113.75nm@ 4000rpm      5.0  \n",
       "6         57.5 bhp      7.8@ 4,500(kgm@ rpm)      5.0  \n",
       "7           37 bhp             59Nm@ 2500rpm      4.0  \n",
       "8         67.1 bhp       170Nm@ 1800-2400rpm      5.0  \n",
       "9         68.1 bhp            160Nm@ 2000rpm      5.0  \n",
       "10      108.45 bhp            248Nm@ 2250rpm      5.0  \n",
       "11          60 bhp             78Nm@ 4500rpm      5.0  \n",
       "12        73.9 bhp            190Nm@ 2000rpm      5.0  \n",
       "13             NaN                       NaN      NaN  \n",
       "14          67 bhp             84Nm@ 3500rpm      5.0  \n",
       "15          82 bhp       115Nm@ 3500-3600rpm      5.0  \n",
       "16        88.5 bhp            200Nm@ 1750rpm      7.0  \n",
       "17          90 bhp  22.4 kgm at 1750-2750rpm      5.0  \n",
       "18        46.3 bhp             62Nm@ 3000rpm      5.0  \n",
       "19       88.73 bhp     219.7Nm@ 1500-2750rpm      5.0  "
      ]
     },
     "execution_count": 107,
     "metadata": {},
     "output_type": "execute_result"
    }
   ],
   "source": [
    "# muestra la catida de registro\n",
    "Datos.head(20)"
   ]
  },
  {
   "cell_type": "code",
   "execution_count": 36,
   "id": "39160813-2569-43aa-8bd9-f2f9b1e63b48",
   "metadata": {},
   "outputs": [
    {
     "data": {
      "text/html": [
       "<div>\n",
       "<style scoped>\n",
       "    .dataframe tbody tr th:only-of-type {\n",
       "        vertical-align: middle;\n",
       "    }\n",
       "\n",
       "    .dataframe tbody tr th {\n",
       "        vertical-align: top;\n",
       "    }\n",
       "\n",
       "    .dataframe thead th {\n",
       "        text-align: right;\n",
       "    }\n",
       "</style>\n",
       "<table border=\"1\" class=\"dataframe\">\n",
       "  <thead>\n",
       "    <tr style=\"text-align: right;\">\n",
       "      <th></th>\n",
       "      <th>años</th>\n",
       "      <th>presio_venta</th>\n",
       "      <th>km_recorridos</th>\n",
       "      <th>asiento</th>\n",
       "    </tr>\n",
       "  </thead>\n",
       "  <tbody>\n",
       "    <tr>\n",
       "      <th>count</th>\n",
       "      <td>8128.000000</td>\n",
       "      <td>8.128000e+03</td>\n",
       "      <td>8.128000e+03</td>\n",
       "      <td>7907.000000</td>\n",
       "    </tr>\n",
       "    <tr>\n",
       "      <th>mean</th>\n",
       "      <td>2013.804011</td>\n",
       "      <td>6.382718e+05</td>\n",
       "      <td>6.981951e+04</td>\n",
       "      <td>5.416719</td>\n",
       "    </tr>\n",
       "    <tr>\n",
       "      <th>std</th>\n",
       "      <td>4.044249</td>\n",
       "      <td>8.062534e+05</td>\n",
       "      <td>5.655055e+04</td>\n",
       "      <td>0.959588</td>\n",
       "    </tr>\n",
       "    <tr>\n",
       "      <th>min</th>\n",
       "      <td>1983.000000</td>\n",
       "      <td>2.999900e+04</td>\n",
       "      <td>1.000000e+00</td>\n",
       "      <td>2.000000</td>\n",
       "    </tr>\n",
       "    <tr>\n",
       "      <th>25%</th>\n",
       "      <td>2011.000000</td>\n",
       "      <td>2.549990e+05</td>\n",
       "      <td>3.500000e+04</td>\n",
       "      <td>5.000000</td>\n",
       "    </tr>\n",
       "    <tr>\n",
       "      <th>50%</th>\n",
       "      <td>2015.000000</td>\n",
       "      <td>4.500000e+05</td>\n",
       "      <td>6.000000e+04</td>\n",
       "      <td>5.000000</td>\n",
       "    </tr>\n",
       "    <tr>\n",
       "      <th>75%</th>\n",
       "      <td>2017.000000</td>\n",
       "      <td>6.750000e+05</td>\n",
       "      <td>9.800000e+04</td>\n",
       "      <td>5.000000</td>\n",
       "    </tr>\n",
       "    <tr>\n",
       "      <th>max</th>\n",
       "      <td>2020.000000</td>\n",
       "      <td>1.000000e+07</td>\n",
       "      <td>2.360457e+06</td>\n",
       "      <td>14.000000</td>\n",
       "    </tr>\n",
       "  </tbody>\n",
       "</table>\n",
       "</div>"
      ],
      "text/plain": [
       "              años  presio_venta  km_recorridos      asiento\n",
       "count  8128.000000  8.128000e+03   8.128000e+03  7907.000000\n",
       "mean   2013.804011  6.382718e+05   6.981951e+04     5.416719\n",
       "std       4.044249  8.062534e+05   5.655055e+04     0.959588\n",
       "min    1983.000000  2.999900e+04   1.000000e+00     2.000000\n",
       "25%    2011.000000  2.549990e+05   3.500000e+04     5.000000\n",
       "50%    2015.000000  4.500000e+05   6.000000e+04     5.000000\n",
       "75%    2017.000000  6.750000e+05   9.800000e+04     5.000000\n",
       "max    2020.000000  1.000000e+07   2.360457e+06    14.000000"
      ]
     },
     "execution_count": 36,
     "metadata": {},
     "output_type": "execute_result"
    }
   ],
   "source": [
    "#codigo que sirve para describir los datos\n",
    "Datos.describe()"
   ]
  },
  {
   "cell_type": "code",
   "execution_count": 39,
   "id": "c548b7e9-ee81-4be6-b29e-1ee9e5912ed1",
   "metadata": {},
   "outputs": [
    {
     "data": {
      "text/plain": [
       "Text(0.5, 1.0, 'Identificación de Datos Faltantes y Atípicos')"
      ]
     },
     "execution_count": 39,
     "metadata": {},
     "output_type": "execute_result"
    },
    {
     "data": {
      "image/png": "[encoded data removed]",
      "text/plain": [
       "<Figure size 600x300 with 1 Axes>"
      ]
     },
     "metadata": {},
     "output_type": "display_data"
    }
   ],
   "source": [
    "#Identificación de Datos Faltantes y Atipicos\n",
    "\n",
    "plt.figure(figsize=(6, 3))\n",
    "sns.boxplot(x=Datos['años'])\n",
    "plt.title('Identificación de Datos Faltantes y Atípicos', fontsize=10)"
   ]
  },
  {
   "cell_type": "code",
   "execution_count": 40,
   "id": "b46cd4c5-7cef-4f75-8d9f-3d5de72de0fe",
   "metadata": {},
   "outputs": [
    {
     "data": {
      "text/plain": [
       "Text(0.5, 1.0, 'Identificación de Datos Faltantes y Atípicos')"
      ]
     },
     "execution_count": 40,
     "metadata": {},
     "output_type": "execute_result"
    },
    {
     "data": {
      "image/png": "[encoded data removed]",
      "text/plain": [
       "<Figure size 600x300 with 1 Axes>"
      ]
     },
     "metadata": {},
     "output_type": "display_data"
    }
   ],
   "source": [
    "#Identificación de Datos Faltantes y Atipicos\n",
    "\n",
    "plt.figure(figsize=(6, 3))\n",
    "sns.boxplot(x=Datos['presio_venta'])\n",
    "plt.title('Identificación de Datos Faltantes y Atípicos', fontsize=10)"
   ]
  },
  {
   "cell_type": "code",
   "execution_count": 113,
   "id": "eb4e32b1-4ef3-46a2-bbc0-e5edc446578a",
   "metadata": {},
   "outputs": [
    {
     "data": {
      "text/plain": [
       "Text(0.5, 1.0, 'Identificación de Datos Faltantes y Atípicos')"
      ]
     },
     "execution_count": 113,
     "metadata": {},
     "output_type": "execute_result"
    },
    {
     "data": {
      "image/png": "[encoded data removed]",
      "text/plain": [
       "<Figure size 600x300 with 1 Axes>"
      ]
     },
     "metadata": {},
     "output_type": "display_data"
    }
   ],
   "source": [
    "#Identificación de Datos Faltantes y Atipicos\n",
    "\n",
    "plt.figure(figsize=(6, 3))\n",
    "sns.boxplot(x=Datos['presio_venta'])\n",
    "plt.title('Identificación de Datos Faltantes y Atípicos', fontsize=10)"
   ]
  },
  {
   "cell_type": "code",
   "execution_count": 42,
   "id": "98fcdc5e-8302-4d11-8b00-581d3ef9bdcb",
   "metadata": {},
   "outputs": [
    {
     "data": {
      "text/plain": [
       "Text(0.5, 1.0, 'Identificación de Datos Faltantes y Atípicos')"
      ]
     },
     "execution_count": 42,
     "metadata": {},
     "output_type": "execute_result"
    },
    {
     "data": {
      "image/png": "[encoded data removed]",
      "text/plain": [
       "<Figure size 600x300 with 1 Axes>"
      ]
     },
     "metadata": {},
     "output_type": "display_data"
    }
   ],
   "source": [
    "#Identificación de Datos Faltantes y Atipicos\n",
    "\n",
    "plt.figure(figsize=(6, 3))\n",
    "sns.boxplot(x=Datos['km_recorridos'])\n",
    "plt.title('Identificación de Datos Faltantes y Atípicos', fontsize=10)"
   ]
  },
  {
   "cell_type": "code",
   "execution_count": 135,
   "id": "5ceea836-2d04-4e26-b923-a6f3c602439c",
   "metadata": {},
   "outputs": [
    {
     "data": {
      "text/plain": [
       "Text(0.5, 1.0, 'Identificación de Datos Faltantes y Atípicos')"
      ]
     },
     "execution_count": 135,
     "metadata": {},
     "output_type": "execute_result"
    },
    {
     "data": {
      "image/png": "[encoded data removed]",
      "text/plain": [
       "<Figure size 600x300 with 1 Axes>"
      ]
     },
     "metadata": {},
     "output_type": "display_data"
    }
   ],
   "source": [
    "#Identificación de Datos Faltantes y Atipicos\n",
    "\n",
    "plt.figure(figsize=(6, 3))\n",
    "sns.boxplot(x=Datos['km_recorridos'])\n",
    "plt.title('Identificación de Datos Faltantes y Atípicos', fontsize=10)"
   ]
  },
  {
   "cell_type": "code",
   "execution_count": 43,
   "id": "69f2d797-b404-461f-9be3-c1bb0b3f0216",
   "metadata": {},
   "outputs": [
    {
     "data": {
      "text/plain": [
       "Text(0.5, 1.0, 'Identificación de Datos Faltantes y Atípicos')"
      ]
     },
     "execution_count": 43,
     "metadata": {},
     "output_type": "execute_result"
    },
    {
     "data": {
      "image/png": "[encoded data removed]",
      "text/plain": [
       "<Figure size 600x300 with 1 Axes>"
      ]
     },
     "metadata": {},
     "output_type": "display_data"
    }
   ],
   "source": [
    "#Identificación de Datos Faltantes y Atipicos\n",
    "\n",
    "plt.figure(figsize=(6, 3))\n",
    "sns.boxplot(x=Datos['asiento'])\n",
    "plt.title('Identificación de Datos Faltantes y Atípicos', fontsize=10)"
   ]
  },
  {
   "cell_type": "code",
   "execution_count": 45,
   "id": "193fb987-2138-4a5c-99a5-98dd89d326ec",
   "metadata": {},
   "outputs": [
    {
     "name": "stdout",
     "output_type": "stream",
     "text": [
      "Cantidad de Registros con cero en prsio de venta:  0\n",
      "Cantidad de Registros con cero en  años:  0\n",
      "Cantidad de Registros con cero en km_recorridos:  0\n",
      "Cantidad de Registros con cero en asiento:  0\n"
     ]
    }
   ],
   "source": [
    " #Revisión de datos faltantes\n",
    "\n",
    "print(\"Cantidad de Registros con cero en prsio de venta: \", Datos ['presio_venta'].isin([0]).sum())\n",
    "print(\"Cantidad de Registros con cero en  años: \", Datos[ 'años'].isin([0]).sum())\n",
    "print(\"Cantidad de Registros con cero en km_recorridos: \", Datos['km_recorridos'].isin([0]).sum())\n",
    "print(\"Cantidad de Registros con cero en asiento: \", Datos['asiento'].isin([0]).sum())\n"
   ]
  },
  {
   "cell_type": "code",
   "execution_count": 96,
   "id": "b9e76a51-1dd4-467c-a22b-47916db2fe8d",
   "metadata": {},
   "outputs": [
    {
     "name": "stdout",
     "output_type": "stream",
     "text": [
      "Valores nulos en la columna 'nombre_columna': 0\n",
      "Valores nulos en la columna 'combustible': 0\n",
      "Valores nulos en la columna 'tipo_vendedor': 0\n",
      "Valores nulos en la columna 'transmission': 0\n",
      "Valores nulos en la columna 'propietario': 0\n",
      "Valores nulos en la columna 'kilometraje': 221\n",
      "Valores nulos en la columna 'motor': 221\n",
      "Valores nulos en la columna 'potencia_maxima': 215\n",
      "Valores nulos en la columna 'torque': 222\n"
     ]
    }
   ],
   "source": [
    "# para buscar valores nulo de caracteres\n",
    "print(\"Valores nulos en la columna 'nombre_columna':\", Datos['nombre'].isnull().sum())\n",
    "print(\"Valores nulos en la columna 'combustible':\", Datos['combustible'].isnull().sum())\n",
    "print(\"Valores nulos en la columna 'tipo_vendedor':\", Datos['tipo_vendedor'].isnull().sum())\n",
    "print(\"Valores nulos en la columna 'transmission':\", Datos['transmission'].isnull().sum())\n",
    "print(\"Valores nulos en la columna 'propietario':\", Datos['propietario'].isnull().sum())\n",
    "print(\"Valores nulos en la columna 'kilometraje':\", Datos['kilometraje'].isnull().sum())\n",
    "print(\"Valores nulos en la columna 'motor':\", Datos['motor'].isnull().sum())\n",
    "print(\"Valores nulos en la columna 'potencia_maxima':\", Datos['potencia_maxima'].isnull().sum())\n",
    "print(\"Valores nulos en la columna 'torque':\", Datos['torque'].isnull().sum())"
   ]
  },
  {
   "cell_type": "code",
   "execution_count": 117,
   "id": "00e68e79-fd6e-4c04-b515-94ed3bfabbb8",
   "metadata": {},
   "outputs": [
    {
     "ename": "SyntaxError",
     "evalue": "closing parenthesis ')' does not match opening parenthesis '[' (3951648877.py, line 2)",
     "output_type": "error",
     "traceback": [
      "\u001b[1;36m  Cell \u001b[1;32mIn[117], line 2\u001b[1;36m\u001b[0m\n\u001b[1;33m    Datos['kilometraje']=Datos['kilometraje').replace(.isnull, Datos['kilometraje'].mean())\u001b[0m\n\u001b[1;37m                                            ^\u001b[0m\n\u001b[1;31mSyntaxError\u001b[0m\u001b[1;31m:\u001b[0m closing parenthesis ')' does not match opening parenthesis '['\n"
     ]
    }
   ],
   "source": [
    "=# Reemplazar todos los nulos con el valor medio (promedio) de la columna.\n",
    "Datos['kilometraje']=Datos['kilometraje').replace(.isnull, Datos['kilometraje'].mean())\n"
   ]
  },
  {
   "cell_type": "code",
   "execution_count": 50,
   "id": "163343fa-02a0-408c-8801-911c1e760306",
   "metadata": {},
   "outputs": [
    {
     "name": "stdout",
     "output_type": "stream",
     "text": [
      "Valores que contienen una cadena vacía en la columna 'nombre_columna':\n",
      "                             nombre  años  presio_venta  km_recorridos  \\\n",
      "0           Maruti Swift Dzire VDI  2014        450000         145500   \n",
      "1     Skoda Rapid 1.5 TDI Ambition  2014        370000         120000   \n",
      "2         Honda City 2017-2020 EXi  2006        158000         140000   \n",
      "3        Hyundai i20 Sportz Diesel  2010        225000         127000   \n",
      "4           Maruti Swift VXI BSIII  2007        130000         120000   \n",
      "...                            ...   ...           ...            ...   \n",
      "8123             Hyundai i20 Magna  2013        320000         110000   \n",
      "8124         Hyundai Verna CRDi SX  2007        135000         119000   \n",
      "8125        Maruti Swift Dzire ZDi  2009        382000         120000   \n",
      "8126               Tata Indigo CR4  2013        290000          25000   \n",
      "8127               Tata Indigo CR4  2013        290000          25000   \n",
      "\n",
      "     combustible tipo_vendedor transmission           propietario kilometraje  \\\n",
      "0         Diesel    Individual       Manual           First Owner   23.4 kmpl   \n",
      "1         Diesel    Individual       Manual          Second Owner  21.14 kmpl   \n",
      "2         Petrol    Individual       Manual           Third Owner   17.7 kmpl   \n",
      "3         Diesel    Individual       Manual           First Owner   23.0 kmpl   \n",
      "4         Petrol    Individual       Manual           First Owner   16.1 kmpl   \n",
      "...          ...           ...          ...                   ...         ...   \n",
      "8123      Petrol    Individual       Manual           First Owner   18.5 kmpl   \n",
      "8124      Diesel    Individual       Manual  Fourth & Above Owner   16.8 kmpl   \n",
      "8125      Diesel    Individual       Manual           First Owner   19.3 kmpl   \n",
      "8126      Diesel    Individual       Manual           First Owner  23.57 kmpl   \n",
      "8127      Diesel    Individual       Manual           First Owner  23.57 kmpl   \n",
      "\n",
      "        motor potencia_maxima                     torque  asiento  \n",
      "0     1248 CC          74 bhp             190Nm@ 2000rpm      5.0  \n",
      "1     1498 CC      103.52 bhp        250Nm@ 1500-2500rpm      5.0  \n",
      "2     1497 CC          78 bhp      12.7@ 2,700(kgm@ rpm)      5.0  \n",
      "3     1396 CC          90 bhp   22.4 kgm at 1750-2750rpm      5.0  \n",
      "4     1298 CC        88.2 bhp      11.5@ 4,500(kgm@ rpm)      5.0  \n",
      "...       ...             ...                        ...      ...  \n",
      "8123  1197 CC       82.85 bhp           113.7Nm@ 4000rpm      5.0  \n",
      "8124  1493 CC         110 bhp  24@ 1,900-2,750(kgm@ rpm)      5.0  \n",
      "8125  1248 CC        73.9 bhp             190Nm@ 2000rpm      5.0  \n",
      "8126  1396 CC          70 bhp        140Nm@ 1800-3000rpm      5.0  \n",
      "8127  1396 CC          70 bhp        140Nm@ 1800-3000rpm      5.0  \n",
      "\n",
      "[8128 rows x 13 columns]\n"
     ]
    }
   ],
   "source": [
    "#mestra los columnas con algun caracter vacio\n",
    "print(\"Valores que contienen una cadena vacía en la columna 'nombre_columna':\\n\", Datos[Datos['nombre'].str.contains(\"\", na=False)])"
   ]
  },
  {
   "cell_type": "code",
   "execution_count": 103,
   "id": "32784ace-0213-410b-9dec-32f3f48873ae",
   "metadata": {},
   "outputs": [
    {
     "name": "stdout",
     "output_type": "stream",
     "text": [
      "Cantidad de Registros con kilometraje:  Index([1810, 3486, 3508, 3641, 6673], dtype='int64')\n"
     ]
    }
   ],
   "source": [
    "#para encontrar valores atipicos \n",
    "print(\"Cantidad de Registros con kilometraje: \", Datos[Datos['km_recorridos'] >= 500000].index)"
   ]
  },
  {
   "cell_type": "code",
   "execution_count": null,
   "id": "f5375ac6-a679-476f-a302-1943df1229c3",
   "metadata": {},
   "outputs": [],
   "source": []
  },
  {
   "cell_type": "code",
   "execution_count": 111,
   "id": "c61001cd-b0c2-4bfc-bddd-2ccf7d8e8fca",
   "metadata": {},
   "outputs": [],
   "source": [
    "# Calcular el promedio de los valores no atípicos\n",
    "promedio_no_atipicos = Datos[Datos['presio_venta'] <= 7000000]['presio_venta'].mean()\n"
   ]
  },
  {
   "cell_type": "code",
   "execution_count": 112,
   "id": "0907bbd3-2fd3-47c1-b3ff-b12aeabc0eb4",
   "metadata": {},
   "outputs": [],
   "source": [
    "# Reemplazar los valores atípicos por el promedio de los valores no atípicos\n",
    "Datos.loc[Datos['presio_venta'] > 7000000, 'presio_venta'] = promedio_no_atipicos"
   ]
  },
  {
   "cell_type": "code",
   "execution_count": 114,
   "id": "ad524387-8a23-49dd-b30d-093fa6527eb8",
   "metadata": {},
   "outputs": [],
   "source": [
    "# Calcular el promedio de los valores no atípicos kilometra\n",
    "promedio_no_atipicos_kilimetrage = Datos[Datos['km_recorridos'] <= 500000]['km_recorridos'].mean()"
   ]
  },
  {
   "cell_type": "code",
   "execution_count": 115,
   "id": "26c2babf-4367-4616-8195-e6c8c1111a04",
   "metadata": {},
   "outputs": [],
   "source": [
    "# Reemplazar los valores atípicos por el promedio de los valores no atípicos\n",
    "Datos.loc[Datos['km_recorridos'] > 500000, 'km_recorridos'] = promedio_no_atipicos_kilimetrage"
   ]
  },
  {
   "cell_type": "code",
   "execution_count": 140,
   "id": "f66afdfd-c8fb-4b2c-86b9-b936b68336ea",
   "metadata": {},
   "outputs": [
    {
     "name": "stdout",
     "output_type": "stream",
     "text": [
      "<class 'pandas.core.frame.DataFrame'>\n",
      "RangeIndex: 8128 entries, 0 to 8127\n",
      "Data columns (total 13 columns):\n",
      " #   Column           Non-Null Count  Dtype  \n",
      "---  ------           --------------  -----  \n",
      " 0   nombre           8128 non-null   object \n",
      " 1   años             8128 non-null   int64  \n",
      " 2   presio_venta     8128 non-null   float64\n",
      " 3   km_recorridos    8128 non-null   float64\n",
      " 4   combustible      8128 non-null   object \n",
      " 5   tipo_vendedor    8128 non-null   object \n",
      " 6   transmission     8128 non-null   object \n",
      " 7   propietario      8128 non-null   object \n",
      " 8   kilometraje      7907 non-null   object \n",
      " 9   motor            7907 non-null   object \n",
      " 10  potencia_maxima  7913 non-null   object \n",
      " 11  torque           7906 non-null   object \n",
      " 12  asiento          7907 non-null   float64\n",
      "dtypes: float64(3), int64(1), object(9)\n",
      "memory usage: 825.6+ KB\n"
     ]
    }
   ],
   "source": [
    "Datos.info()# predecir el presio de un carro"
   ]
  },
  {
   "cell_type": "code",
   "execution_count": 141,
   "id": "56349ff7-1f6d-4802-833c-5f84e88fda71",
   "metadata": {},
   "outputs": [
    {
     "data": {
      "text/plain": [
       "presio_venta\n",
       "300000.0     227\n",
       "600000.0     213\n",
       "350000.0     209\n",
       "550000.0     204\n",
       "450000.0     195\n",
       "            ... \n",
       "308000.0       1\n",
       "3900000.0      1\n",
       "2850000.0      1\n",
       "39000.0        1\n",
       "746000.0       1\n",
       "Name: count, Length: 676, dtype: int64"
      ]
     },
     "execution_count": 141,
     "metadata": {},
     "output_type": "execute_result"
    }
   ],
   "source": [
    "# numero de veces que se repiten datos\n",
    "Datos['presio_venta'].value_counts()"
   ]
  },
  {
   "cell_type": "code",
   "execution_count": 142,
   "id": "f6918559-d37b-4ab8-ae99-dd206a43e004",
   "metadata": {},
   "outputs": [
    {
     "data": {
      "text/html": [
       "<div>\n",
       "<style scoped>\n",
       "    .dataframe tbody tr th:only-of-type {\n",
       "        vertical-align: middle;\n",
       "    }\n",
       "\n",
       "    .dataframe tbody tr th {\n",
       "        vertical-align: top;\n",
       "    }\n",
       "\n",
       "    .dataframe thead th {\n",
       "        text-align: right;\n",
       "    }\n",
       "</style>\n",
       "<table border=\"1\" class=\"dataframe\">\n",
       "  <thead>\n",
       "    <tr style=\"text-align: right;\">\n",
       "      <th></th>\n",
       "      <th>presio_venta</th>\n",
       "    </tr>\n",
       "  </thead>\n",
       "  <tbody>\n",
       "    <tr>\n",
       "      <th>0</th>\n",
       "      <td>450000.0</td>\n",
       "    </tr>\n",
       "    <tr>\n",
       "      <th>1</th>\n",
       "      <td>370000.0</td>\n",
       "    </tr>\n",
       "    <tr>\n",
       "      <th>2</th>\n",
       "      <td>158000.0</td>\n",
       "    </tr>\n",
       "    <tr>\n",
       "      <th>3</th>\n",
       "      <td>225000.0</td>\n",
       "    </tr>\n",
       "    <tr>\n",
       "      <th>4</th>\n",
       "      <td>130000.0</td>\n",
       "    </tr>\n",
       "    <tr>\n",
       "      <th>5</th>\n",
       "      <td>440000.0</td>\n",
       "    </tr>\n",
       "    <tr>\n",
       "      <th>6</th>\n",
       "      <td>96000.0</td>\n",
       "    </tr>\n",
       "    <tr>\n",
       "      <th>7</th>\n",
       "      <td>45000.0</td>\n",
       "    </tr>\n",
       "    <tr>\n",
       "      <th>8</th>\n",
       "      <td>350000.0</td>\n",
       "    </tr>\n",
       "    <tr>\n",
       "      <th>9</th>\n",
       "      <td>200000.0</td>\n",
       "    </tr>\n",
       "  </tbody>\n",
       "</table>\n",
       "</div>"
      ],
      "text/plain": [
       "   presio_venta\n",
       "0      450000.0\n",
       "1      370000.0\n",
       "2      158000.0\n",
       "3      225000.0\n",
       "4      130000.0\n",
       "5      440000.0\n",
       "6       96000.0\n",
       "7       45000.0\n",
       "8      350000.0\n",
       "9      200000.0"
      ]
     },
     "execution_count": 142,
     "metadata": {},
     "output_type": "execute_result"
    }
   ],
   "source": [
    "# datos presio de venta\n",
    "Datos[['presio_venta']].head(10)"
   ]
  },
  {
   "cell_type": "code",
   "execution_count": 145,
   "id": "cfbe1559-6730-4fb7-940c-5c049c5ba772",
   "metadata": {},
   "outputs": [
    {
     "ename": "ValueError",
     "evalue": "The least populated class in y has only 1 member, which is too few. The minimum number of groups for any class cannot be less than 2.",
     "output_type": "error",
     "traceback": [
      "\u001b[1;31m---------------------------------------------------------------------------\u001b[0m",
      "\u001b[1;31mValueError\u001b[0m                                Traceback (most recent call last)",
      "Cell \u001b[1;32mIn[145], line 9\u001b[0m\n\u001b[0;32m      6\u001b[0m Y \u001b[38;5;241m=\u001b[39m Datos[\u001b[38;5;124m'\u001b[39m\u001b[38;5;124mkm_recorridos\u001b[39m\u001b[38;5;124m'\u001b[39m] \u001b[38;5;66;03m# Se cargan Los datos de train con los datos de La La columna Diabetico\u001b[39;00m\n\u001b[0;32m      8\u001b[0m  \u001b[38;5;66;03m#La función train_test_split crea una división de un conjunto de datos en dos bloques uno de entrenamiento y otro de prueba (train and test)\u001b[39;00m\n\u001b[1;32m----> 9\u001b[0m X_train, X_test, Y_train, Y_test \u001b[38;5;241m=\u001b[39m train_test_split(X, Y, test_size\u001b[38;5;241m=\u001b[39m\u001b[38;5;241m0.3\u001b[39m, stratify\u001b[38;5;241m=\u001b[39mY, random_state\u001b[38;5;241m=\u001b[39m \u001b[38;5;241m0\u001b[39m)\n",
      "File \u001b[1;32m~\\anaconda3\\Lib\\site-packages\\sklearn\\model_selection\\_split.py:2583\u001b[0m, in \u001b[0;36mtrain_test_split\u001b[1;34m(test_size, train_size, random_state, shuffle, stratify, *arrays)\u001b[0m\n\u001b[0;32m   2579\u001b[0m         CVClass \u001b[38;5;241m=\u001b[39m ShuffleSplit\n\u001b[0;32m   2581\u001b[0m     cv \u001b[38;5;241m=\u001b[39m CVClass(test_size\u001b[38;5;241m=\u001b[39mn_test, train_size\u001b[38;5;241m=\u001b[39mn_train, random_state\u001b[38;5;241m=\u001b[39mrandom_state)\n\u001b[1;32m-> 2583\u001b[0m     train, test \u001b[38;5;241m=\u001b[39m \u001b[38;5;28mnext\u001b[39m(cv\u001b[38;5;241m.\u001b[39msplit(X\u001b[38;5;241m=\u001b[39marrays[\u001b[38;5;241m0\u001b[39m], y\u001b[38;5;241m=\u001b[39mstratify))\n\u001b[0;32m   2585\u001b[0m \u001b[38;5;28;01mreturn\u001b[39;00m \u001b[38;5;28mlist\u001b[39m(\n\u001b[0;32m   2586\u001b[0m     chain\u001b[38;5;241m.\u001b[39mfrom_iterable(\n\u001b[0;32m   2587\u001b[0m         (_safe_indexing(a, train), _safe_indexing(a, test)) \u001b[38;5;28;01mfor\u001b[39;00m a \u001b[38;5;129;01min\u001b[39;00m arrays\n\u001b[0;32m   2588\u001b[0m     )\n\u001b[0;32m   2589\u001b[0m )\n",
      "File \u001b[1;32m~\\anaconda3\\Lib\\site-packages\\sklearn\\model_selection\\_split.py:1689\u001b[0m, in \u001b[0;36mBaseShuffleSplit.split\u001b[1;34m(self, X, y, groups)\u001b[0m\n\u001b[0;32m   1659\u001b[0m \u001b[38;5;250m\u001b[39m\u001b[38;5;124;03m\"\"\"Generate indices to split data into training and test set.\u001b[39;00m\n\u001b[0;32m   1660\u001b[0m \n\u001b[0;32m   1661\u001b[0m \u001b[38;5;124;03mParameters\u001b[39;00m\n\u001b[1;32m   (...)\u001b[0m\n\u001b[0;32m   1686\u001b[0m \u001b[38;5;124;03mto an integer.\u001b[39;00m\n\u001b[0;32m   1687\u001b[0m \u001b[38;5;124;03m\"\"\"\u001b[39;00m\n\u001b[0;32m   1688\u001b[0m X, y, groups \u001b[38;5;241m=\u001b[39m indexable(X, y, groups)\n\u001b[1;32m-> 1689\u001b[0m \u001b[38;5;28;01mfor\u001b[39;00m train, test \u001b[38;5;129;01min\u001b[39;00m \u001b[38;5;28mself\u001b[39m\u001b[38;5;241m.\u001b[39m_iter_indices(X, y, groups):\n\u001b[0;32m   1690\u001b[0m     \u001b[38;5;28;01myield\u001b[39;00m train, test\n",
      "File \u001b[1;32m~\\anaconda3\\Lib\\site-packages\\sklearn\\model_selection\\_split.py:2078\u001b[0m, in \u001b[0;36mStratifiedShuffleSplit._iter_indices\u001b[1;34m(self, X, y, groups)\u001b[0m\n\u001b[0;32m   2076\u001b[0m class_counts \u001b[38;5;241m=\u001b[39m np\u001b[38;5;241m.\u001b[39mbincount(y_indices)\n\u001b[0;32m   2077\u001b[0m \u001b[38;5;28;01mif\u001b[39;00m np\u001b[38;5;241m.\u001b[39mmin(class_counts) \u001b[38;5;241m<\u001b[39m \u001b[38;5;241m2\u001b[39m:\n\u001b[1;32m-> 2078\u001b[0m     \u001b[38;5;28;01mraise\u001b[39;00m \u001b[38;5;167;01mValueError\u001b[39;00m(\n\u001b[0;32m   2079\u001b[0m         \u001b[38;5;124m\"\u001b[39m\u001b[38;5;124mThe least populated class in y has only 1\u001b[39m\u001b[38;5;124m\"\u001b[39m\n\u001b[0;32m   2080\u001b[0m         \u001b[38;5;124m\"\u001b[39m\u001b[38;5;124m member, which is too few. The minimum\u001b[39m\u001b[38;5;124m\"\u001b[39m\n\u001b[0;32m   2081\u001b[0m         \u001b[38;5;124m\"\u001b[39m\u001b[38;5;124m number of groups for any class cannot\u001b[39m\u001b[38;5;124m\"\u001b[39m\n\u001b[0;32m   2082\u001b[0m         \u001b[38;5;124m\"\u001b[39m\u001b[38;5;124m be less than 2.\u001b[39m\u001b[38;5;124m\"\u001b[39m\n\u001b[0;32m   2083\u001b[0m     )\n\u001b[0;32m   2085\u001b[0m \u001b[38;5;28;01mif\u001b[39;00m n_train \u001b[38;5;241m<\u001b[39m n_classes:\n\u001b[0;32m   2086\u001b[0m     \u001b[38;5;28;01mraise\u001b[39;00m \u001b[38;5;167;01mValueError\u001b[39;00m(\n\u001b[0;32m   2087\u001b[0m         \u001b[38;5;124m\"\u001b[39m\u001b[38;5;124mThe train_size = \u001b[39m\u001b[38;5;132;01m%d\u001b[39;00m\u001b[38;5;124m should be greater or \u001b[39m\u001b[38;5;124m\"\u001b[39m\n\u001b[0;32m   2088\u001b[0m         \u001b[38;5;124m\"\u001b[39m\u001b[38;5;124mequal to the number of classes = \u001b[39m\u001b[38;5;132;01m%d\u001b[39;00m\u001b[38;5;124m\"\u001b[39m \u001b[38;5;241m%\u001b[39m (n_train, n_classes)\n\u001b[0;32m   2089\u001b[0m     )\n",
      "\u001b[1;31mValueError\u001b[0m: The least populated class in y has only 1 member, which is too few. The minimum number of groups for any class cannot be less than 2."
     ]
    }
   ],
   "source": [
    "#Porcentaje de datos para entrenamiento (train) = 75%, y para prueba (test) = 25%\n",
    "\n",
    "# Se crean variables X y Y para almacenar la información del entrenamiento\n",
    "\n",
    "X = Datos.drop('km_recorridos', axis=1) # Se cargan Los datos de train sin los datos de la columna Diabetico\n",
    "Y = Datos['km_recorridos'] # Se cargan Los datos de train con los datos de La La columna Diabetico\n",
    "\n",
    " #La función train_test_split crea una división de un conjunto de datos en dos bloques uno de entrenamiento y otro de prueba (train and test)\n",
    "X_train, X_test, Y_train, Y_test = train_test_split(X, Y, test_size=0.25, stratify=Y, random_state= 0)"
   ]
  },
  {
   "cell_type": "code",
   "execution_count": 134,
   "id": "fcdc2c5f-136a-437e-ac1f-79ce911e21eb",
   "metadata": {},
   "outputs": [
    {
     "ename": "NameError",
     "evalue": "name 'X_train' is not defined",
     "output_type": "error",
     "traceback": [
      "\u001b[1;31m---------------------------------------------------------------------------\u001b[0m",
      "\u001b[1;31mNameError\u001b[0m                                 Traceback (most recent call last)",
      "Cell \u001b[1;32mIn[134], line 1\u001b[0m\n\u001b[1;32m----> 1\u001b[0m \u001b[38;5;28mprint\u001b[39m(X_train)\n",
      "\u001b[1;31mNameError\u001b[0m: name 'X_train' is not defined"
     ]
    }
   ],
   "source": [
    "print(X_train)"
   ]
  },
  {
   "cell_type": "code",
   "execution_count": null,
   "id": "0121d9f7-91d1-4844-b563-6dadb3cba652",
   "metadata": {},
   "outputs": [],
   "source": []
  }
 ],
 "metadata": {
  "kernelspec": {
   "display_name": "Python 3 (ipykernel)",
   "language": "python",
   "name": "python3"
  },
  "language_info": {
   "codemirror_mode": {
    "name": "ipython",
    "version": 3
   },
   "file_extension": ".py",
   "mimetype": "text/x-python",
   "name": "python",
   "nbconvert_exporter": "python",
   "pygments_lexer": "ipython3",
   "version": "3.11.7"
  }
 },
 "nbformat": 4,
 "nbformat_minor": 5
}
